{
  "nbformat": 4,
  "nbformat_minor": 0,
  "metadata": {
    "colab": {
      "provenance": [],
      "authorship_tag": "ABX9TyMcjb5Lk7gW5e3SzLlx2Qdl",
      "include_colab_link": true
    },
    "kernelspec": {
      "name": "python3",
      "display_name": "Python 3"
    },
    "language_info": {
      "name": "python"
    }
  },
  "cells": [
    {
      "cell_type": "markdown",
      "metadata": {
        "id": "view-in-github",
        "colab_type": "text"
      },
      "source": [
        "<a href=\"https://colab.research.google.com/github/marcelomoresco/pseudo_function/blob/main/pseudo_function.ipynb\" target=\"_parent\"><img src=\"https://colab.research.google.com/assets/colab-badge.svg\" alt=\"Open In Colab\"/></a>"
      ]
    },
    {
      "cell_type": "code",
      "execution_count": 3,
      "metadata": {
        "id": "cxs7iuSa9q-w",
        "colab": {
          "base_uri": "https://localhost:8080/"
        },
        "outputId": "d0b2ead1-4716-48dd-ee81-ae1dfcc4cbba"
      },
      "outputs": [
        {
          "output_type": "stream",
          "name": "stdout",
          "text": [
            "Arquivo anonimizado salvo como: /content/contrato_item_anonymized.csv\n"
          ]
        }
      ],
      "source": [
        "import pandas as pd\n",
        "from cryptography.fernet import Fernet\n",
        "import os\n",
        "\n",
        "# Função para gerar e salvar a chave de criptografia\n",
        "def generate_key():\n",
        "    key = Fernet.generate_key()\n",
        "    with open(\"crypto_key.key\", \"wb\") as key_file:\n",
        "        key_file.write(key)\n",
        "    return key\n",
        "\n",
        "# Função para carregar a chave de criptografia\n",
        "def load_key():\n",
        "    return open(\"crypto_key.key\", \"rb\").read()\n",
        "\n",
        "# Verificando se a chave já existe, senão, gerar uma nova\n",
        "if not os.path.exists(\"crypto_key.key\"):\n",
        "    key = generate_key()\n",
        "else:\n",
        "    key = load_key()\n",
        "\n",
        "cipher = Fernet(key)\n",
        "\n",
        "def pseudo_anonymize(data):\n",
        "    \"\"\" Criptografa os dados fornecidos usando Fernet (AES). \"\"\"\n",
        "    return cipher.encrypt(str(data).encode()).decode()\n",
        "\n",
        "def depseudo_anonymize(data):\n",
        "    \"\"\" Descriptografa os dados fornecidos usando a chave Fernet. \"\"\"\n",
        "    return cipher.decrypt(data.encode()).decode()\n",
        "\n",
        "def anonymize_data(data):\n",
        "    \"\"\" Substitui dados por valores genéricos ou códigos aleatórios. \"\"\"\n",
        "    return \"ANONYMIZED\"\n",
        "\n",
        "def process_file(file_path):\n",
        "    if os.path.exists(file_path):\n",
        "        data = pd.read_csv(file_path)\n",
        "\n",
        "        # Aplicando pseudo-anonimização\n",
        "        data['NUCONTRATO'] = data['NUCONTRATO'].apply(pseudo_anonymize)\n",
        "        data['NUIDENTIFICACAOCONTRATADO'] = data['NUIDENTIFICACAOCONTRATADO'].astype(str).apply(pseudo_anonymize)\n",
        "\n",
        "        # Aplicando anonimização completa\n",
        "        data['NMCONTRATADO'] = data['NMCONTRATADO'].apply(lambda x: anonymize_data(x))\n",
        "        data['DEOBJETOCONTRATO'] = data['DEOBJETOCONTRATO'].apply(lambda x: anonymize_data(x))\n",
        "\n",
        "        # Salvar os dados anonimizados\n",
        "        anonymized_file_path = file_path.replace(\".csv\", \"_anonymized.csv\")\n",
        "        data.to_csv(anonymized_file_path, index=False)\n",
        "        print(f\"Arquivo anonimizado salvo como: {anonymized_file_path}\")\n",
        "    else:\n",
        "        print(\"Erro: O arquivo especificado não existe.\")\n",
        "\n",
        "# Substitua 'nome_do_seu_arquivo.csv' pelo caminho correto do arquivo\n",
        "process_file('/content/contrato_item.csv')\n"
      ]
    }
  ]
}